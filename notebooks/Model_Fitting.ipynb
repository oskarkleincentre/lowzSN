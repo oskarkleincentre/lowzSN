{
 "cells": [
  {
   "cell_type": "code",
   "execution_count": 1,
   "metadata": {},
   "outputs": [],
   "source": [
    "# Cleaned up version of MCMC model-fitting script\n",
    "import numpy as np\n",
    "import pymultinest as pmn\n",
    "import matplotlib as plt\n",
    "\n",
    "import os\n",
    "import corner\n",
    "import sys\n",
    "\n",
    "from astropy.cosmology import w0waCDM, Flatw0waCDM\n",
    "from exoticDE_fit.genclass_cosm import Cosmology"
   ]
  },
  {
   "cell_type": "code",
   "execution_count": 2,
   "metadata": {},
   "outputs": [],
   "source": [
    "# Define cosmological parameters\n",
    "Omega_m, Omega_merror = 0.3, 0.05\n",
    "\n",
    "h0, w0, d_w0 = 70., 0.9, 0.1\n",
    "ode0, wa = (1-Omega_m),(1.-w0)\n",
    "\n",
    "# For use with the Cosmology class import\n",
    "model_name, params = 'slowroll', [Omega_m, d_w0, h0]\n",
    "\n",
    "# Using Cosmology class, Set n_params to 4, if Astropy, set to 5\n",
    "parameters = 4\n",
    "\n",
    "# add_ztf = True when using wfirst + ztf\n",
    "add_ztf = True"
   ]
  },
  {
   "cell_type": "code",
   "execution_count": 3,
   "metadata": {},
   "outputs": [],
   "source": [
    "# Define a cosmology:\n",
    "# i.e. cosm_def = class_import(function_parameters) \n",
    "\n",
    "# cosm_def = w0waCDM(H0=h0, Om0=Omega_m, Ode0=ode0, w0=-w0, wa=-wa)# From astropy import\n",
    "cosm_def = Cosmology(model_name,params) # From Cosmology import"
   ]
  },
  {
   "cell_type": "code",
   "execution_count": 4,
   "metadata": {},
   "outputs": [],
   "source": [
    "### Define paths to data to use in the fit\n",
    "### Need three arrays of: redshifts from data, generated distances, and errors"
   ]
  },
  {
   "cell_type": "code",
   "execution_count": 9,
   "metadata": {},
   "outputs": [],
   "source": [
    "# ### WFIRST and ZTF data\n",
    "# data_path = '/Users/markpoe/ZTF/exoticDE_fit/Ex_data/'\n",
    "\n",
    "# # Paths to wfirst only data\n",
    "# data_bins = data_path + 'wfirst_noLowz.dat' # wfirst only data\n",
    "# cov_mat = np.loadtxt(data_path + 'syscov_WFIRST_nolowz.txt') # wfirst only cov matrix\n",
    "# redshift,estat = np.loadtxt(data_bins, usecols=[1,5], unpack=True) # wfirst only reshift & errors\n",
    "\n",
    "# if add_ztf:\n",
    "#     # Paths to wfirst + ztf data\n",
    "#     data_bins = data_path + 'comb_ztf_wfirst.dat' # ztf data\n",
    "#     cov_mat = np.loadtxt(data_path + 'sys_cov_wfirst_ztf.dat') # ztf + wfirst cov matrix\n",
    "#     redshift,estat = np.loadtxt(data_bins, unpack=True) #ztf + wfirst reshift & errors\n",
    "#     print (len(redshift))\n",
    "    \n",
    "# cov_stat = np.diag(estat**2.)\n",
    "# cov_temp = cov_mat + cov_stat\n",
    "# inv_cov = np.linalg.inv(cov_temp)\n",
    "\n",
    "# print (estat)"
   ]
  },
  {
   "cell_type": "code",
   "execution_count": 6,
   "metadata": {},
   "outputs": [],
   "source": [
    "### JLA data\n",
    "\n",
    "data_path = '../jla_data/'\n",
    "data_bins = np.loadtxt(data_path + 'dist_binned.txt') \n",
    "cov_mat = np.loadtxt(data_path + 'covmat_binned.txt')\n",
    "\n",
    "redshift = data_bins[:,0]\n",
    "cov_mat *= 1e-6\n",
    "inv_cov = np.linalg.inv(cov_mat)"
   ]
  },
  {
   "cell_type": "code",
   "execution_count": 20,
   "metadata": {},
   "outputs": [
    {
     "name": "stdout",
     "output_type": "stream",
     "text": [
      "31\n",
      "9\n"
     ]
    }
   ],
   "source": [
    "### JLA + ZTF Data\n",
    "\n",
    "ztf_data = np.loadtxt('/Users/markpoe/ZTF/exoticDE_fit/Ex_data/' + 'ztf_msip.dat') # ztf data\n",
    "jla_err = np.loadtxt('diag_jla.dat', usecols = (0,1))\n",
    "\n",
    "jla_ztf = np.concatenate((jla_err,ztf_data),axis=0)\n",
    "# estat = np.sort(jla_ztf[:,1])\n",
    "redshift = np.sort(jla_ztf[:,0])\n",
    "\n",
    "ztf_err = ztf_data[:,1]\n",
    "cov_stat2 = np.diag(ztf_err**2.)\n",
    "\n",
    "jla_error = jla_err[:,1]\n",
    "cov_stat1 = np.diag(jla_error**2)\n",
    "\n",
    "inv_cov1 = np.linalg.inv(cov_stat1)\n",
    "inv_cov2 = np.linalg.inv(cov_stat2)\n",
    "print (len(inv_cov1))\n",
    "print (len(inv_cov2))\n",
    "\n",
    "\n",
    "\n",
    "# print (len(redshift))\n",
    "# print (redshift)\n",
    "# print (len(estat))\n",
    "# print (estat)"
   ]
  },
  {
   "cell_type": "code",
   "execution_count": 21,
   "metadata": {},
   "outputs": [],
   "source": [
    "# ### Perform linear algebra operations for the likelihood function and define errors \n",
    "# veestack = np.vstack([sorted(data_bins[:, 0]), (cosm_dist)]).T # Transpose using the generated cosm_dist array\n",
    "# np.savetxt(data_path+'dist_binned_A.txt',veestack) # Save the generated data matrix\n",
    "# gen_data_bins = np.loadtxt(data_path+'dist_binned_A.txt') # Load the generated data matrix\n",
    "\n",
    "# cov_mat *= 1e-6\n",
    "# Cinv = np.linalg.inv(cov_mat)"
   ]
  },
  {
   "cell_type": "code",
   "execution_count": 22,
   "metadata": {},
   "outputs": [
    {
     "name": "stdout",
     "output_type": "stream",
     "text": [
      "[33.17409913 33.573095   33.91090999 34.06226342 34.20394221 34.58170305\n",
      " 35.00266825 35.18676349 35.27344423 35.66292491 35.93245053 36.05610352\n",
      " 36.39134196 36.49301429 36.77361046 36.94340504 37.13959339 37.3206005\n",
      " 37.48867199 37.64558813 37.84921124 37.93143412 38.1868283  38.23482097\n",
      " 38.60858631 38.9861078  39.3747952  39.76396572 40.14706656 40.54919597\n",
      " 40.94859637 41.35414185 41.76932498 42.18364667 42.60855324 43.03248216\n",
      " 43.46464676 43.89912873 44.33334724 44.77051689]\n",
      "[0.01  0.012 0.014 0.015 0.016 0.019 0.023 0.025 0.026 0.031 0.035 0.037\n",
      " 0.043 0.045 0.051 0.055 0.06  0.065 0.07  0.075 0.082 0.085 0.095 0.097\n",
      " 0.114 0.134 0.158 0.186 0.218 0.257 0.302 0.355 0.418 0.491 0.578 0.679\n",
      " 0.799 0.94  1.105 1.3  ]\n",
      "40\n",
      "40\n"
     ]
    }
   ],
   "source": [
    "# Generate distances from the defined cosmological parameters and z values from given data set\n",
    "\n",
    "# gen_dist = cosm_def.distmod(redshift) # From astropy import \n",
    "gen_dist = cosm_def.luminosity_distance(redshift) # From Cosmology import\n",
    "\n",
    "print (gen_dist)\n",
    "print (redshift)\n",
    "print (len(redshift))\n",
    "print (len(gen_dist))"
   ]
  },
  {
   "cell_type": "code",
   "execution_count": 23,
   "metadata": {},
   "outputs": [],
   "source": [
    "# Sort distances and save to a text file\n",
    "sort_dist = np.sort(gen_dist)\n",
    "np.savetxt('cosm_dist.txt', sort_dist)"
   ]
  },
  {
   "cell_type": "code",
   "execution_count": 24,
   "metadata": {},
   "outputs": [
    {
     "name": "stdout",
     "output_type": "stream",
     "text": [
      "[33.17409913 33.573095   33.91090999 34.06226342 34.20394221 34.58170305\n",
      " 35.00266825 35.18676349 35.27344423 35.66292491 35.93245053 36.05610352\n",
      " 36.39134196 36.49301429 36.77361046 36.94340504 37.13959339 37.3206005\n",
      " 37.48867199 37.64558813 37.84921124 37.93143412 38.1868283  38.23482097\n",
      " 38.60858631 38.9861078  39.3747952  39.76396572 40.14706656 40.54919597\n",
      " 40.94859637 41.35414185 41.76932498 42.18364667 42.60855324 43.03248216\n",
      " 43.46464676 43.89912873 44.33334724 44.77051689]\n"
     ]
    }
   ],
   "source": [
    "# Load distances from the text file\n",
    "cosm_dist = np.loadtxt('cosm_dist.txt', usecols = 0)\n",
    "print ( cosm_dist)"
   ]
  },
  {
   "cell_type": "code",
   "execution_count": 25,
   "metadata": {},
   "outputs": [
    {
     "ename": "SyntaxError",
     "evalue": "invalid syntax (<ipython-input-25-d90d52e66b33>, line 67)",
     "output_type": "error",
     "traceback": [
      "\u001b[0;36m  File \u001b[0;32m\"<ipython-input-25-d90d52e66b33>\"\u001b[0;36m, line \u001b[0;32m67\u001b[0m\n\u001b[0;31m    chisq = np.dot(diff_arr.T, np.dot(inv_cov, diff_arr)) + ((om - Omega_m)**2.)/((Omega_merror)**2.) +\u001b[0m\n\u001b[0m                                                                                                        ^\u001b[0m\n\u001b[0;31mSyntaxError\u001b[0m\u001b[0;31m:\u001b[0m invalid syntax\n"
     ]
    }
   ],
   "source": [
    "# Functions to calculate the log likelihood\n",
    "def prior(cube, ndim, npar): \n",
    "    \"\"\"\n",
    "    Define the prior value for each parameter\n",
    "    cube[0] = om\n",
    "    cube[1] = w0\n",
    "    cube[2] = wa\n",
    "    cube[3] = H0\n",
    "    cube[4] = M\n",
    "    \n",
    "    ndim, npar = ndim, npar in llhood\n",
    "    \"\"\"\n",
    "    cube[0]  = cube[0]*1\n",
    "    cube[1]  = cube[1]*4 - 2\n",
    "    cube[2]  = cube[2]*6 - 3\n",
    "    cube[3]  = cube[3]*50 + 50\n",
    "    cube[4]  = cube[4]*0.00000000000001\n",
    "\n",
    "def llhood(model_param, ndim, npar):\n",
    "    \"\"\"\n",
    "    This is the function where we define the log likelihood \n",
    "    log(Lhood) = -0.5*chisquare\n",
    "    \n",
    "    Parameters\n",
    "    ----------\n",
    "    model_param : sequence\n",
    "        sequence of model parameters (Om, w0, wa, H0, M)\n",
    "        in a w0waCDM    \n",
    "    ndim : integer\n",
    "         length of model_params\n",
    "    npar : integer\n",
    "        The number of parameters \n",
    "    \"\"\"\n",
    "    # Define cosmological parameters to use with the prior function array\n",
    "    om, W0, Wa, h_0, M = [model_param[i] for i in range(5)]\n",
    "    \n",
    "    # Define a cosmological model using prior values\n",
    "    model = w0waCDM(H0=h_0, Om0=om, Ode0=1-om, w0=W0, wa=Wa)\n",
    "\n",
    "    # Calculate distances using priors and z from given data\n",
    "    dl_mpc = model.luminosity_distance(redshift).value\n",
    "    mu_th = 5*np.log10(dl_mpc) + 25.\n",
    "    \n",
    "    # Calulate chi2 using (mu_th) - (mu_some_input_data) \n",
    "    dif_arr = mu_th - cosm_dist + M # Using generated data\n",
    "    chisq = np.dot(dif_arr.T, np.dot(inv_cov, dif_arr)) + ((om - Omega_m)**2.)/((Omega_merror)**2.) \n",
    "    \n",
    "    # Return the log likelihood\n",
    "    return -0.5*chisq\n",
    "\n",
    "def prior_slowroll(cube, ndim, npar): \n",
    "    \"\"\" Slowroll Prior\n",
    "    \"\"\"\n",
    "    cube[0]  = cube[0]*1.\n",
    "    cube[1]  = cube[1]*2. - 1.\n",
    "    cube[2]  = cube[2]*50. + 50.\n",
    "    cube[3]  = cube[3]*0.00000000000001\n",
    "\n",
    "def llhood_slowroll(model_param, ndim, npar):\n",
    "    \"\"\"Function similar to llhood that's built exclusively for the slowroll model\n",
    "       Log=True in this case so we use .luminosity_distance(some_z) for the dist mod \n",
    "    \"\"\"\n",
    "    om, del_w, h_0, M = [model_param[i] for i in range(4)]\n",
    "    wc = Cosmology(model_name,[om, del_w, h_0])\n",
    "    mu_th = wc.luminosity_distance(redshift)\n",
    "    diff_arr = mu_th - cosm_dist + M\n",
    "    chisq = np.dot(diff_arr.T, np.dot(inv_cov, diff_arr)) + ((om - Omega_m)**2.)/((Omega_merror)**2.) + \n",
    "    return -0.5*chisq"
   ]
  },
  {
   "cell_type": "code",
   "execution_count": 42,
   "metadata": {},
   "outputs": [
    {
     "name": "stdout",
     "output_type": "stream",
     "text": [
      "params = 4\n"
     ]
    }
   ],
   "source": [
    "# Dependency of live points on the number of parameters\n",
    "if parameters==5:\n",
    "    log_llhood, prior_func, livepoints = llhood, prior, 700\n",
    "    print ('params = 5')\n",
    "elif parameters==4:\n",
    "    log_llhood, prior_func, livepoints = llhood_slowroll, prior_slowroll, 400\n",
    "    print ('params = 4')\n",
    "else:\n",
    "    print ('How many parameters are set for the llhood function')"
   ]
  },
  {
   "cell_type": "code",
   "execution_count": 135,
   "metadata": {},
   "outputs": [],
   "source": [
    "Omega_merror = .01"
   ]
  },
  {
   "cell_type": "code",
   "execution_count": 136,
   "metadata": {},
   "outputs": [],
   "source": [
    "# Name a directory using the current model to be run with this script\n",
    "\n",
    "current_model = 'jla_ztf_sr_sig01'\n",
    "\n",
    "# In order to calculate the delta log evidence as in the Jeffery's scale, \n",
    "#   define an existing chain directory for a previously run model\n",
    "\n",
    "comparison_model = 'wf_ztf_sr_sig15' \n",
    "\n",
    "# Creates the directory name and path for current model\n",
    "chains_directory = '/Users/markpoe/ZTF/lowzSN/notebooks/chains/' # General chains directory \n",
    "chain_dir = (chains_directory + current_model + '/') # Specific chain directory\n",
    "\n",
    "# Create the necessary directory to store chains\n",
    "if not os.path.exists(chain_dir):\n",
    "    os.makedirs(chain_dir)"
   ]
  },
  {
   "cell_type": "code",
   "execution_count": null,
   "metadata": {
    "scrolled": true
   },
   "outputs": [],
   "source": [
    "# Create chains and statistical data using pymultinest 'run.py'; when npar < 5, can set n_live_points=400\n",
    "pmn.run(log_llhood, prior_func, n_dims=parameters, verbose=True, n_live_points=livepoints, resume=False, outputfiles_basename=chain_dir)\n"
   ]
  },
  {
   "cell_type": "code",
   "execution_count": 19,
   "metadata": {
    "scrolled": false
   },
   "outputs": [
    {
     "ename": "NameError",
     "evalue": "name 'chain_dir' is not defined",
     "output_type": "error",
     "traceback": [
      "\u001b[0;31m---------------------------------------------------------------------------\u001b[0m",
      "\u001b[0;31mNameError\u001b[0m                                 Traceback (most recent call last)",
      "\u001b[0;32m<ipython-input-19-0bf888c805b0>\u001b[0m in \u001b[0;36m<module>\u001b[0;34m()\u001b[0m\n\u001b[1;32m      1\u001b[0m \u001b[0;31m# Fetch data and create contour plots for comparison\u001b[0m\u001b[0;34m\u001b[0m\u001b[0;34m\u001b[0m\u001b[0m\n\u001b[0;32m----> 2\u001b[0;31m \u001b[0mdata\u001b[0m \u001b[0;34m=\u001b[0m \u001b[0mnp\u001b[0m\u001b[0;34m.\u001b[0m\u001b[0mloadtxt\u001b[0m\u001b[0;34m(\u001b[0m\u001b[0mchain_dir\u001b[0m\u001b[0;34m+\u001b[0m\u001b[0;34m'post_equal_weights.dat'\u001b[0m\u001b[0;34m)\u001b[0m\u001b[0;34m\u001b[0m\u001b[0m\n\u001b[0m\u001b[1;32m      3\u001b[0m figure = corner.corner(data[:,[0,1]], smooth=1, levels=(1 - np.exp(-0.5),1 - np.exp(-2.)), \n\u001b[1;32m      4\u001b[0m                        labels=[r'$\\Omega_M$', r'w$_0$', r'w$_a$', 'h0', 'M', 'llhood'], verbose=True,show_titles=True)\n\u001b[1;32m      5\u001b[0m \u001b[0;34m\u001b[0m\u001b[0m\n",
      "\u001b[0;31mNameError\u001b[0m: name 'chain_dir' is not defined"
     ]
    }
   ],
   "source": [
    "# Fetch data and create contour plots for comparison\n",
    "data = np.loadtxt(chain_dir+'post_equal_weights.dat')\n",
    "figure = corner.corner(data[:,[0,1]], smooth=1, levels=(1 - np.exp(-0.5),1 - np.exp(-2.)), \n",
    "                       labels=[r'$\\Omega_M$', r'w$_0$', r'w$_a$', 'h0', 'M', 'llhood'], verbose=True,show_titles=True)\n",
    "\n",
    "#  r'w$_0$w$_a$CDM'\n",
    "figure.suptitle( 'JLA fit to Slowroll'+ '\\n' \n",
    "                + r'$\\Omega_{M}$' + r'$\\mathcal{=0.3}$ '+ r'$\\pm$'+r'$\\mathcal{.01}$' \n",
    "                ,x=0.8,fontsize=14) \n",
    "figure.savefig('./plots/contours/'+current_model)\n",
    "\n",
    "\n",
    "# figure = corner.corner(data[:,[0,1,2]], smooth=1.5, levels=(1 - np.exp(-0.5),1 - np.exp(-2.)), \n",
    "#                        labels=['om', 'w0', 'wa', 'h0', 'M', 'llhood'], show_titles=True, \n",
    "#                       truths=[.3,.1,70.,None,None], color = 'k', truth_color = 'r',bins = 30,\n",
    "#                        quantiles=[.7,.5,.3], use_math_text=True, plot_contours=False)   "
   ]
  },
  {
   "cell_type": "code",
   "execution_count": 81,
   "metadata": {},
   "outputs": [
    {
     "data": {
      "image/png": "[encoded data removed]",
      "text/plain": [
       "<Figure size 432x288 with 1 Axes>"
      ]
     },
     "metadata": {},
     "output_type": "display_data"
    }
   ],
   "source": [
    "import matplotlib.pyplot as plt\n",
    "chain_dir2 = (chains_directory+comparison_model+'/')\n",
    "data1 = np.loadtxt(chain_dir+'post_equal_weights.dat')\n",
    "data2 = np.loadtxt(chain_dir2 + 'post_equal_weights.dat')\n",
    "\n",
    "bins=20\n",
    "plt.grid(True, alpha=.3)\n",
    "plt.hist(data1[:,1],bins,color='r',alpha=.8,label='WFIRST only',histtype='stepfilled',density=True)\n",
    "plt.hist(data2[:,1],bins,color='b',alpha=.6,label='WFIRST + ZTF',histtype='stepfilled',density=True)\n",
    "\n",
    "\n",
    "plt.xlabel(r'$\\delta$w$_0$')\n",
    "plt.title(r'$\\delta$w$_0$'+'\\n$'+'\\Omega_m$=0.3 $\\pm$ .01')\n",
    "\n",
    "\n",
    "\n",
    "plt.legend()\n",
    "plt.show()\n",
    "\n",
    "import matplotlib as mpl\n",
    "plt.rcParams['savefig.dpi'] = 300\n",
    "mpl.rcParams['figure.dpi'] = 300"
   ]
  },
  {
   "cell_type": "code",
   "execution_count": 90,
   "metadata": {},
   "outputs": [
    {
     "ename": "AttributeError",
     "evalue": "'int' object has no attribute 'min'",
     "output_type": "error",
     "traceback": [
      "\u001b[0;31m---------------------------------------------------------------------------\u001b[0m",
      "\u001b[0;31mAttributeError\u001b[0m                            Traceback (most recent call last)",
      "\u001b[0;32m<ipython-input-90-a88dd91910c6>\u001b[0m in \u001b[0;36m<module>\u001b[0;34m()\u001b[0m\n\u001b[1;32m      1\u001b[0m \u001b[0mbins\u001b[0m\u001b[0;34m=\u001b[0m\u001b[0;36m51\u001b[0m\u001b[0;34m\u001b[0m\u001b[0m\n\u001b[1;32m      2\u001b[0m \u001b[0my\u001b[0m \u001b[0;34m=\u001b[0m \u001b[0;36m50\u001b[0m\u001b[0;34m\u001b[0m\u001b[0m\n\u001b[0;32m----> 3\u001b[0;31m \u001b[0mcorner\u001b[0m\u001b[0;34m.\u001b[0m\u001b[0mhist2d\u001b[0m\u001b[0;34m(\u001b[0m\u001b[0mdata2\u001b[0m\u001b[0;34m,\u001b[0m\u001b[0my\u001b[0m\u001b[0;34m,\u001b[0m\u001b[0mbins\u001b[0m\u001b[0;34m)\u001b[0m\u001b[0;34m\u001b[0m\u001b[0m\n\u001b[0m\u001b[1;32m      4\u001b[0m \u001b[0mcorner\u001b[0m\u001b[0;34m.\u001b[0m\u001b[0mhist2d\u001b[0m\u001b[0;34m(\u001b[0m\u001b[0mdata1\u001b[0m\u001b[0;34m,\u001b[0m\u001b[0my\u001b[0m\u001b[0;34m,\u001b[0m \u001b[0mbins\u001b[0m\u001b[0;34m)\u001b[0m\u001b[0;34m\u001b[0m\u001b[0m\n",
      "\u001b[0;32m~/astroml_miniconda3/lib/python3.6/site-packages/corner/corner.py\u001b[0m in \u001b[0;36mhist2d\u001b[0;34m(x, y, bins, range, weights, levels, smooth, ax, color, plot_datapoints, plot_density, plot_contours, no_fill_contours, fill_contours, contour_kwargs, contourf_kwargs, data_kwargs, **kwargs)\u001b[0m\n\u001b[1;32m    484\u001b[0m             \u001b[0mrange\u001b[0m \u001b[0;34m=\u001b[0m \u001b[0mkwargs\u001b[0m\u001b[0;34m[\u001b[0m\u001b[0;34m\"extent\"\u001b[0m\u001b[0;34m]\u001b[0m\u001b[0;34m\u001b[0m\u001b[0m\n\u001b[1;32m    485\u001b[0m         \u001b[0;32melse\u001b[0m\u001b[0;34m:\u001b[0m\u001b[0;34m\u001b[0m\u001b[0m\n\u001b[0;32m--> 486\u001b[0;31m             \u001b[0mrange\u001b[0m \u001b[0;34m=\u001b[0m \u001b[0;34m[\u001b[0m\u001b[0;34m[\u001b[0m\u001b[0mx\u001b[0m\u001b[0;34m.\u001b[0m\u001b[0mmin\u001b[0m\u001b[0;34m(\u001b[0m\u001b[0;34m)\u001b[0m\u001b[0;34m,\u001b[0m \u001b[0mx\u001b[0m\u001b[0;34m.\u001b[0m\u001b[0mmax\u001b[0m\u001b[0;34m(\u001b[0m\u001b[0;34m)\u001b[0m\u001b[0;34m]\u001b[0m\u001b[0;34m,\u001b[0m \u001b[0;34m[\u001b[0m\u001b[0my\u001b[0m\u001b[0;34m.\u001b[0m\u001b[0mmin\u001b[0m\u001b[0;34m(\u001b[0m\u001b[0;34m)\u001b[0m\u001b[0;34m,\u001b[0m \u001b[0my\u001b[0m\u001b[0;34m.\u001b[0m\u001b[0mmax\u001b[0m\u001b[0;34m(\u001b[0m\u001b[0;34m)\u001b[0m\u001b[0;34m]\u001b[0m\u001b[0;34m]\u001b[0m\u001b[0;34m\u001b[0m\u001b[0m\n\u001b[0m\u001b[1;32m    487\u001b[0m \u001b[0;34m\u001b[0m\u001b[0m\n\u001b[1;32m    488\u001b[0m     \u001b[0;31m# Set up the default plotting arguments.\u001b[0m\u001b[0;34m\u001b[0m\u001b[0;34m\u001b[0m\u001b[0m\n",
      "\u001b[0;31mAttributeError\u001b[0m: 'int' object has no attribute 'min'"
     ]
    },
    {
     "data": {
      "image/png": "[encoded data removed]",
      "text/plain": [
       "<Figure size 1800x1200 with 1 Axes>"
      ]
     },
     "metadata": {},
     "output_type": "display_data"
    }
   ],
   "source": [
    "\n",
    "bins=51\n",
    "y = 50\n",
    "corner.hist2d(data2,y,bins)\n",
    "corner.hist2d(data1,y, bins)\n",
    "\n"
   ]
  },
  {
   "cell_type": "code",
   "execution_count": null,
   "metadata": {},
   "outputs": [],
   "source": [
    "# !cat '/Users/markpoe/ZTF/lowzSN/notebooks/chains/model_fitting_trial_run4/stats.dat'\n",
    "filename=(chain_dir+'stats.dat')\n",
    "temp=[]\n",
    "tempp=[]\n",
    "with open(filename,'r') as f:\n",
    "    for line in f:\n",
    "#         print (line)\n",
    "        temp.append(line)\n",
    "print ('w0 Mean and sigma','\\n',temp[5],'wa Mean and sigma','\\n',temp[6])"
   ]
  },
  {
   "cell_type": "code",
   "execution_count": null,
   "metadata": {},
   "outputs": [],
   "source": [
    "### Access log evidence and calculate delta log evidence for two models\n",
    "\n",
    "# Define variables for use in a loop\n",
    "stat = '/stats.dat'\n",
    "Model_1 = chains_directory + current_model +  stat\n",
    "Model_2 = chains_directory + comparison_model +  stat\n",
    "\n",
    "# Build array of log evs for two models\n",
    "ev = []\n",
    "models = [Model_1,Model_2]\n",
    "for x in models:\n",
    "    with open(x, \"r\") as f:\n",
    "        for line in f:\n",
    "            if \"Nested Sampling Global Log-Evidence\" in line:\n",
    "                ev.append(line)\n",
    "    f.close()\n",
    "print (ev)\n",
    "\n",
    "# Extract the evidences from the above array and convert to float\n",
    "z = []\n",
    "for x in ev:\n",
    "    y = x.split(':')\n",
    "    t = y[1].split('+/-')\n",
    "    z.append(t[0])\n",
    "ev1,ev2 = float(z[0]), float(z[1])\n",
    "# print ('\\n','Log evs as floats','\\n',ev1,ev2)\n",
    "\n",
    "# Calculate and print delta of the log evidences\n",
    "delta_lnE = np.abs(ev1 - ev2)\n",
    "print ('\\n','Delta Log Evidence of the two models','\\n',delta_lnE)"
   ]
  },
  {
   "cell_type": "code",
   "execution_count": null,
   "metadata": {},
   "outputs": [],
   "source": [
    "# Print evidences and the abs value of delta evidences\n",
    "e1 = np.exp(ev1)\n",
    "e2 = np.exp(ev2)\n",
    "print (e1, 'Evidence for current model')\n",
    "print (e2, 'Evidence for comparison model')\n",
    "delta_evidence = np.abs(e1 - e2)\n",
    "print ('\\n','Delta evidence','\\n', delta_evidence)\n",
    "\n",
    "# Print Bayes factor ev1/ev2\n",
    "# Bayes_factor = np.divide(np.exp(ev1),np.exp(ev2))\n",
    "Bayes_factor = np.divide(np.exp(ev2),np.exp(ev1))\n",
    "\n",
    "# Print log of the Bayes Factor, should be same as delta log evs\n",
    "log_bayes_factor = np.abs(np.log(Bayes_factor))\n",
    "print ('\\n','Log Bayes Factor (Delta Log evs)','\\n',log_bayes_factor)\n",
    "\n",
    "# If the log bayes is negative, can use this to find bayes factor\n",
    "# Bayes_factor = np.exp(np.abs(log_bayes_factor))\n",
    "print ('\\n','Bayes Factor','\\n',Bayes_factor)\n",
    "\n",
    "# Not sure if we need to use absolute values on the Bayes factors here\n",
    "# Double check with someone who knows about this"
   ]
  },
  {
   "cell_type": "code",
   "execution_count": null,
   "metadata": {},
   "outputs": [],
   "source": []
  },
  {
   "cell_type": "code",
   "execution_count": null,
   "metadata": {},
   "outputs": [],
   "source": [
    "# ### Define here:\n",
    "# current_model = 'model_fitting_trial_run3'\n",
    "# comparison_model = 'model_fitting_trial_run2' \n",
    "# data_path = '../jla_data/'\n",
    "# bin_file = 'dist_binned.txt'\n",
    "# cov_mat_file = 'covmat_binned.txt'\n",
    "# # cosm_def = w0waCDM(H0=70., Om0=0.3, Ode0=.7, w0=-.9, wa=-.1)\n",
    "# cosm_def = Cosmology('slowroll',[0.3,0.1,70.])"
   ]
  },
  {
   "cell_type": "code",
   "execution_count": null,
   "metadata": {},
   "outputs": [],
   "source": []
  },
  {
   "cell_type": "code",
   "execution_count": null,
   "metadata": {},
   "outputs": [],
   "source": []
  }
 ],
 "metadata": {
  "kernelspec": {
   "display_name": "Python 3",
   "language": "python",
   "name": "python3"
  },
  "language_info": {
   "codemirror_mode": {
    "name": "ipython",
    "version": 3
   },
   "file_extension": ".py",
   "mimetype": "text/x-python",
   "name": "python",
   "nbconvert_exporter": "python",
   "pygments_lexer": "ipython3",
   "version": "3.6.5"
  }
 },
 "nbformat": 4,
 "nbformat_minor": 2
}
