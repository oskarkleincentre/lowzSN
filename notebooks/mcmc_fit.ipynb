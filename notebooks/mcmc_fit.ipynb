{
 "cells": [
  {
   "cell_type": "code",
   "execution_count": 28,
   "metadata": {
    "collapsed": false
   },
   "outputs": [],
   "source": [
    "import numpy as np \n",
    "import matplotlib.pyplot as plt \n",
    "import pymultinest as pmn\n",
    "import glob\n",
    "import sys\n",
    "import os\n",
    "import corner\n",
    "\n",
    "\n",
    "from astropy.cosmology import wCDM\n"
   ]
  },
  {
   "cell_type": "code",
   "execution_count": 29,
   "metadata": {
    "collapsed": false
   },
   "outputs": [],
   "source": [
    "#define all the data here (currently SN only)\n",
    "data_path = '../jla_data/'\n",
    "jla_bins = np.loadtxt(data_path+'dist_binned.txt')\n",
    "cov_mat = np.loadtxt(data_path+'covmat_binned.txt')\n",
    "\n",
    "vs = np.vstack([sorted(jla_bins[:,0]), sorted(jla_bins[:,1])]).T\n",
    "np.savetxt('../jla_data/dist_binned.txt', vs)\n",
    "\n",
    "cov_mat*=1e-6\n",
    "Cinv = np.linalg.inv(cov_mat)\n"
   ]
  },
  {
   "cell_type": "code",
   "execution_count": 30,
   "metadata": {
    "collapsed": true
   },
   "outputs": [],
   "source": [
    "#define the likelihood and the prior in this cell\n",
    "#currently only for wCDM\n",
    "\n",
    "\n",
    "def llhood(model_param, ndim, npar):\n",
    "    \"\"\"\n",
    "    This is the function where we define the log likelihood \n",
    "    log(Lhood) = -0.5*chisquare\n",
    "    \"\"\"\n",
    "    \n",
    "    om, w, h0, M = [model_param[i] for i in xrange(4)]\n",
    "    wc = wCDM(h0, om, 1-om, w0=w)\n",
    "    dl_mpc = wc.luminosity_distance(jla_bins[:,0]).value\n",
    "    mu_th = 5*np.log10(dl_mpc) + 25.\n",
    "    dif_arr = mu_th - jla_bins[:,1] + M\n",
    "    chisq = np.dot(dif_arr.T, np.dot(Cinv, dif_arr))\n",
    "    return -0.5*chisq\n",
    "\n",
    "def prior(cube, ndim, npar):\n",
    "    \"\"\"\n",
    "    Define the prior for each parameter\n",
    "    i.e. before doing the experiment what do we know about these parameters\n",
    "    \"\"\"\n",
    "    cube[0]  = cube[0]*1.\n",
    "    cube[1]  = cube[1]*4. - 2.\n",
    "    cube[2]  = cube[2]*50. + 50.\n",
    "    cube[3]  = cube[3]*4. - 2."
   ]
  },
  {
   "cell_type": "code",
   "execution_count": 27,
   "metadata": {
    "collapsed": false
   },
   "outputs": [],
   "source": [
    "#directory where the chains are \n",
    "chain_dir = 'chains/'\n",
    "\n",
    "if not os.path.exists(chain_dir):\n",
    "    os.makedirs(chain_dir)\n",
    "\n",
    "#running the nested sampling algorithm\n",
    "#the verbose argument is to see how the sampler is progressing \n",
    "pmn.run(llhood, prior, 4, verbose=True, outputfiles_basename=chain_dir+'jla_wcdm-')"
   ]
  },
  {
   "cell_type": "code",
   "execution_count": null,
   "metadata": {
    "collapsed": true
   },
   "outputs": [],
   "source": [
    "#a quick plotting function\n",
    "data = np.loadtxt(chain_dir+'jla_wcdm-')\n",
    "corner.corner(data, smooth=1, labels=['om', 'w', 'h0', 'M', 'llhood'], color='b')\n"
   ]
  }
 ],
 "metadata": {
  "kernelspec": {
   "display_name": "Python 2",
   "language": "python",
   "name": "python2"
  },
  "language_info": {
   "codemirror_mode": {
    "name": "ipython",
    "version": 2
   },
   "file_extension": ".py",
   "mimetype": "text/x-python",
   "name": "python",
   "nbconvert_exporter": "python",
   "pygments_lexer": "ipython2",
   "version": "2.7.13"
  }
 },
 "nbformat": 4,
 "nbformat_minor": 2
}
