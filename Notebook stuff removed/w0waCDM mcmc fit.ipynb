{
 "cells": [
  {
   "cell_type": "code",
   "execution_count": 1,
   "metadata": {},
   "outputs": [],
   "source": [
    "import numpy as np\n",
    "import pymultinest as pmn\n",
    "import matplotlib as plt\n",
    "\n",
    "import os\n",
    "import corner\n",
    "import glob\n",
    "import sys\n",
    "\n",
    "from astropy.cosmology import w0waCDM, Flatw0waCDM\n",
    "from exoticDE_fit.genclass_cosm import Cosmology"
   ]
  },
  {
   "cell_type": "code",
   "execution_count": 74,
   "metadata": {},
   "outputs": [],
   "source": [
    "### JLA data\n",
    "\n",
    "data_path = '../jla_data/'\n",
    "jla_bins = np.loadtxt(data_path + 'dist_binned.txt') ### original\n",
    "cov_mat = np.loadtxt(data_path + 'covmat_binned.txt')"
   ]
  },
  {
   "cell_type": "code",
   "execution_count": 75,
   "metadata": {},
   "outputs": [],
   "source": [
    "wwcdm = w0waCDM(H0=70., Om0=0.3, Ode0=.7, w0=-.9, wa=-.1)"
   ]
  },
  {
   "cell_type": "code",
   "execution_count": 4,
   "metadata": {},
   "outputs": [],
   "source": [
    "# cosmo = Cosmology('slowroll',[0.3,0.1,70.])"
   ]
  },
  {
   "cell_type": "code",
   "execution_count": 5,
   "metadata": {},
   "outputs": [
    {
     "name": "stdout",
     "output_type": "stream",
     "text": [
      "/Users/markpoe/ZTF/lowzSN/notebooks\r\n"
     ]
    }
   ],
   "source": [
    "add_ztf = True"
   ]
  },
  {
   "cell_type": "code",
   "execution_count": 9,
   "metadata": {},
   "outputs": [],
   "source": []
  },
  {
   "cell_type": "code",
   "execution_count": 73,
   "metadata": {},
   "outputs": [],
   "source": [
    "### Wfirst data \n",
    "# z_wfirst,estat_wfirst = np.loadtxt('/Users/markpoe/ZTF/exoticDE_fit/Ex_data/wfirst_noLowz.dat', usecols=[1,5],unpack=True)\n",
    "# cov_sys_wfirst = np.loadtxt('/Users/markpoe/ZTF/exoticDE_fit/Ex_data/syscov_WFIRST_nolowz.txt')\n",
    "\n",
    "# cov_stat_wfirst = np.diag(estat_wfirst**2.)\n",
    "# cov_wfirst = cov_sys_wfirst + cov_stat_wfirst\n",
    "# icov_wfirst = np.linalg.inv(cov_wfirst)"
   ]
  },
  {
   "cell_type": "code",
   "execution_count": 7,
   "metadata": {},
   "outputs": [],
   "source": [
    "je = cosmo.luminosity_distance(z_wfirst)\n",
    "l = np.sort(je)\n",
    "np.savetxt('by_hand.txt', l)\n",
    "wfirst_distances = np.loadtxt('by_hand.txt', usecols = 0)\n"
   ]
  },
  {
   "cell_type": "code",
   "execution_count": 8,
   "metadata": {},
   "outputs": [],
   "source": [
    "z_ztf, sig_ztf = np.loadtxt('/Users/markpoe/ZTF/exoticDE_fit/Ex_data/ztf_msip.dat', unpack =True)\n",
    "ztf_dist = cosmo.luminosity_distance(z_ztf)"
   ]
  },
  {
   "cell_type": "code",
   "execution_count": 11,
   "metadata": {},
   "outputs": [
    {
     "name": "stdout",
     "output_type": "stream",
     "text": [
      "yes\n",
      "29\n",
      "29\n",
      "29\n",
      "9\n",
      "9\n",
      "29\n",
      "[38.28421234 38.48951698 38.69277694 38.9258399  39.12078219 39.30786787\n",
      " 39.47921151 39.66670826 39.85645371 40.04255972 40.20979022 40.38745582\n",
      " 40.56731582 40.74919508 40.92123255 41.11422903 41.3010026  41.50362639\n",
      " 41.70556436 41.90779628 42.13523367 42.37524432 42.63875127 42.91799573\n",
      " 43.23853271 43.60261127 44.0524556  44.6498891  45.61461534]\n",
      "[0.0991 0.1083 0.1182 0.1306 0.1419 0.1536 0.1651 0.1786 0.1933 0.2088\n",
      " 0.2237 0.2406 0.2589 0.2787 0.2987 0.3227 0.3476 0.3766 0.4077 0.4412\n",
      " 0.4819 0.5286 0.5847 0.6502 0.7339 0.8414 0.9953 1.243  1.7802]\n",
      "[0.015 0.025 0.035 0.045 0.055 0.065 0.075 0.085 0.095]\n",
      "[0.05614849 0.020165   0.01680764 0.01488648 0.01263724 0.01267468\n",
      " 0.01193852 0.01154684 0.01122091]\n"
     ]
    }
   ],
   "source": [
    "if add_ztf:\n",
    "    print ('yes')\n",
    "else:\n",
    "    print ('nah')\n",
    "    \n",
    "print (len(cov_stat_wfirst))\n",
    "print (len(cov_wfirst))\n",
    "print (len(icov_wfirst))\n",
    "print (len(z_ztf))\n",
    "print (len(sig_ztf))\n",
    "print (len(z_wfirst))\n",
    "\n",
    "print (wfirst_distances)\n",
    "print (z_wfirst)\n",
    "print (z_ztf)\n",
    "print (sig_ztf)"
   ]
  },
  {
   "cell_type": "code",
   "execution_count": 12,
   "metadata": {},
   "outputs": [],
   "source": [
    "# ### Generate mu's by hand\n",
    "# je = wwcdm.distmod((jla_bins[:,0]))\n",
    "# print (len(je))\n",
    "# l = np.sort(je)\n",
    "# # print (l)\n",
    "# np.savetxt('by_hand.txt', l)\n",
    "\n",
    "\n",
    "# # om, del_w, h0, M = [model_param[i] for i in range(4)]\n",
    "#     wc = Cosmology('slowroll',[om, del_w, h0])\n",
    "#     dl_mpc = wc.luminosity_distance(z_wfirst)\n",
    "#     mu_th = 5.*np.log10(dl_mpc) + 25.\n",
    "#     diff_arr = mu_th - wfirst_distances + M\n",
    "#     chisq = np.dot(diff_arr.T, np.dot(icov_wfirst, diff_arr)) + ((om - 0.3)**2.)/((.01)**2.)"
   ]
  },
  {
   "cell_type": "code",
   "execution_count": 13,
   "metadata": {},
   "outputs": [],
   "source": [
    "# #define all the data here (currently SN only)\n",
    "\n",
    "# vs = np.vstack([sorted(jla_bins[:, 0]), sorted(jla_bins[:, 1])]).T # Transpose using jla original\n",
    "# vv = np.vstack([sorted(jla_bins[:, 0]), (j)]).T # Transpose using the by-hand array\n",
    "\n",
    "# np.savetxt('../jla_data/dist_binned_A.txt', vs) # Save the .T matrix\n",
    "# np.savetxt('../jla_data/dist_binned_B.txt', vv) # Save the .T matrix using the by-hand array\n",
    "\n",
    "# jla_bins_a = np.loadtxt(data_path + '/dist_binned_A.txt') # Load the .T matrix\n",
    "# jla_bins_b = np.loadtxt('../jla_data/dist_binned_B.txt')# Load the .T-by-hand matrix\n",
    "\n",
    "# cov_mat *= 1e-6\n",
    "# Cinv = np.linalg.inv(cov_mat)"
   ]
  },
  {
   "cell_type": "code",
   "execution_count": 66,
   "metadata": {},
   "outputs": [],
   "source": [
    "def llhood(model_param, ndim, npar): \n",
    "    \"\"\"\n",
    "    This is the function where we define the log likelihood \n",
    "    log(Lhood) = -0.5*chisquare\n",
    "    \n",
    "    Parameters\n",
    "    ----------\n",
    "    model_param : sequence\n",
    "        sequence of model parameters (Om, w0, wa, H0, M)\n",
    "        in a w0waCDM    \n",
    "    ndim : integer\n",
    "         length of model_params\n",
    "    npar : integer\n",
    "        The number of parameters \n",
    "    \"\"\"\n",
    "    # Calculate mu using priors and z from jla\n",
    "    om, W0, Wa, h0, M = [model_param[i] for i in range(5)]\n",
    "    # Define a model using priors\n",
    "    wc = w0waCDM(H0=h0, Om0=om, Ode0=1-om, w0=W0, wa=Wa) #\n",
    "    dl_mpc = wc.luminosity_distance(z_wfirst).value \n",
    "    mu_th = 5.*np.log10(dl_mpc) + 25.\n",
    "    # Calulate chi2 using (mu_th) - (mu_some_input_such_as_jla or by hand) \n",
    "    dif_arr = mu_th - wfirst_distances + M # Using by-hand data\n",
    "    chisq = np.dot(dif_arr.T, np.dot(icov_wfirst, dif_arr)) + ((om - 0.3)**2.)/((.01)**2.)\n",
    "\n",
    "    # Adding in ZTF\n",
    "    if add_ztf:\n",
    "        mu_th_ztf = wc.distmod(z_ztf).value\n",
    "        del_ztf = mu_th_ztf - ztf_dist + M\n",
    "        a = np.sum(del_ztf**2/sig_ztf**2)\n",
    "        b = np.sum(del_ztf/sig_ztf**2)\n",
    "        c = np.sum(1/sig_ztf**2)\n",
    "        ztf_chi2 = a - (b**2)/c + np.log(c/(2*np.pi))\n",
    "        chisq += ztf_chi2\n",
    "        print ('ztf')\n",
    "    \n",
    "    return -0.5*chisq\n",
    "\n",
    "def prior(cube, ndim, npar): # for models with more pars\n",
    "    \"\"\"\n",
    "    Define the prior for each parameter\n",
    "    cube[0] = om\n",
    "    cube[1] = w0\n",
    "    cube[2] = wa\n",
    "    cube[3] = H0\n",
    "    cube[4] = M\n",
    "    \"\"\"\n",
    "    cube[0]  = cube[0]*1.\n",
    "    cube[1]  = cube[1]*4. - 2.\n",
    "    cube[2]  = cube[2]*6. - 3.\n",
    "    cube[3]  = cube[3]*50. + 50.\n",
    "    cube[4]  = cube[4]*0.00000000000001\n",
    "\n",
    "# Functions for fitting slowroll distances to slowroll\n",
    "def llhood_slowroll(model_param, ndim, npar):\n",
    "    \"\"\"Function similar to llhood that's built exclusively for the slowroll model\n",
    "       Log=True in this case so we use .luminosity_distance(some_z) for the dist mod \n",
    "    \"\"\"\n",
    "    \n",
    "    om, del_w, h0, M = [model_param[i] for i in range(4)]\n",
    "    wc = Cosmology('slowroll',[om, del_w, h0])\n",
    "#     mu_th = wc.distmod(z_wfirst)\n",
    "    mu_th = wc.luminosity_distance(z_wfirst)\n",
    "    diff_arr = mu_th - wfirst_distances + M\n",
    "    chisq = np.dot(diff_arr.T, np.dot(icov_wfirst, diff_arr)) #+ ((om - 0.3)**2.)/((.01)**2.)\n",
    "    return -0.5*chisq\n",
    "\n",
    "def prior_slowroll(cube, ndim, npar):\n",
    "    \"\"\" Prior function built for the slowroll model\n",
    "    cube[0] = om\n",
    "    cube[1] = del_w\n",
    "    cube[2] = h0\n",
    "    cube[3] = M \"\"\"\n",
    "    \n",
    "    cube[0] = cube[0]*1.\n",
    "    cube[1] = cube[1]*.6 - .3\n",
    "    cube[2] = cube[2]*45. + 45. \n",
    "    cube[3] = cube[3]*0.0000000000001\n",
    "\n",
    "    \n",
    "\n",
    "# # Similarly defined functions for running model comparisons at the same time\n",
    "# def llhood2(model_param, ndim, npar):\n",
    "#     om, w, h0, M = [model_param[i] for i in range(4)]\n",
    "    \n",
    "#     wc = wCDM(H0=h0, Om0=om, Ode0=1-om, w0=w)\n",
    "# #     wc = FlatwCDM(H0=H0, Om0=om, w0=w)\n",
    "\n",
    "#     dl_mpc = wc.luminosity_distance(jla_bins[:,0]).value # Using jla data\n",
    "#     mu_th = 5*np.log10(dl_mpc) + 25.\n",
    "    \n",
    "# #     dif_arr = mu_th - jla_bins_a[:,1] + M # Using jla mu .T\n",
    "#     dif_arr = mu_th - jla_bins_b[:,1] + M # Using by-hand data\n",
    "    \n",
    "#     chisq = np.dot(dif_arr.T, np.dot(Cinv, dif_arr)) + ((om - 0.3)**2.)/((1e-15)**2.)\n",
    "#     return -0.5*chisq\n",
    "    \n",
    "# def prior2(cube, ndim, npar): # for models with less pars\n",
    "#     cube[0]  = cube[0]*1\n",
    "#     cube[1]  = cube[1]*4 - 2\n",
    "#     cube[2]  = cube[2]*50 + 50\n",
    "#     cube[3]  = cube[3]*0.00000000000001"
   ]
  },
  {
   "cell_type": "code",
   "execution_count": 70,
   "metadata": {},
   "outputs": [],
   "source": [
    "prefix = 'wf_ztf_sr_1'\n",
    "chain_dir = ('/Users/markpoe/ZTF/lowzSN/notebooks/chains/' + prefix + '/')\n",
    "\n",
    "if not os.path.exists(chain_dir):\n",
    "    os.makedirs(chain_dir)\n",
    "\n",
    "# ## For running model comparisons at the same time\n",
    "# prefix2 = 'new_class_trial_run'\n",
    "# chain_dir2 = ('/Users/markpoe/ZTF/lowzSN/notebooks/chains/' + prefix2 + '/')\n",
    "\n",
    "# if not os.path.exists(chain_dir2):\n",
    "#     os.makedirs(chain_dir2)"
   ]
  },
  {
   "cell_type": "code",
   "execution_count": 68,
   "metadata": {
    "scrolled": true
   },
   "outputs": [],
   "source": [
    "# pmn.run(llhood, prior, 5, verbose=True, n_live_points=700, outputfiles_basename=chain_dir)\n",
    "pmn.run(llhood_slowroll, prior_slowroll, 4, verbose=True, n_live_points=400, outputfiles_basename=chain_dir)\n"
   ]
  },
  {
   "cell_type": "code",
   "execution_count": 69,
   "metadata": {
    "scrolled": false
   },
   "outputs": [
    {
     "data": {
      "image/png": "[encoded data removed]",
      "text/plain": [
       "<Figure size 547.2x547.2 with 9 Axes>"
      ]
     },
     "metadata": {},
     "output_type": "display_data"
    }
   ],
   "source": [
    "data = np.loadtxt(chain_dir+'post_equal_weights.dat')\n",
    "# figure = corner.corner(data[:,[0,1,2,3]], smooth=1, levels=(1 - np.exp(-0.5),1 - np.exp(-2.) ), labels=['om', 'w0', 'wa', 'h0', 'M', 'llhood'], show_titles=True)#, truths=[.3,-.9,-.1,70.,None,None])\n",
    "figure = corner.corner(data[:,[0,1,2]], smooth=1, levels=(1 - np.exp(-0.5),1 - np.exp(-2.) ), labels=['om', 'del_w0', 'h0', 'llhood'], show_titles=True)#, truths=[.3,-.9,-.1,70.,None,None])\n",
    "\n",
    "\n",
    "# data2 = np.loadtxt(chain_dir2+'post_equal_weights.dat')\n",
    "# figure2 = corner.corner(data2[:,[0,1]], smooth=1, levels=(1 - np.exp(-0.5),1 - np.exp(-2.) ), labels=['om', 'w','h0', 'M', 'llhood'],show_titles=True, truths=[.3,-.9,70.,None,None])\n",
    "\n",
    "# plt.pyplot.savefig['/Users/markpoe/ZTF/lowzSN/notebooks']\n",
    "figure.savefig('./plots/contours/'+prefix)"
   ]
  },
  {
   "cell_type": "code",
   "execution_count": 15,
   "metadata": {},
   "outputs": [
    {
     "name": "stdout",
     "output_type": "stream",
     "text": [
      "['Nested Sampling Global Log-Evidence           :   -0.961122045829845462E+01  +/-    0.105035256498742569E+00\\n', 'Nested Sampling Global Log-Evidence           :   -0.344400747657029669E+02  +/-    0.211098081439508617E+00\\n']\n",
      "\n",
      " Log evs as floats \n",
      " -9.611220458298455 -34.44007476570297\n",
      "\n",
      " Delta Log Evidence of the two models \n",
      " 24.828854307404512\n"
     ]
    }
   ],
   "source": [
    "\n",
    "### Find log evidence and calculate delta log evidence for two models\n",
    "\n",
    "# Define variables for use in a loop\n",
    "chains_directory = '/Users/markpoe/ZTF/lowzSN/notebooks/chains/'\n",
    "stat = '/stats.dat'\n",
    "model_one =  prefix # i.e. 'test6_modchi2'\n",
    "model_two =  prefix2 # i.e. 'jla_wCDM_vs_by_hand2'\n",
    "Model_1 = chains_directory + model_one +  stat\n",
    "Model_2 = chains_directory + model_two +  stat\n",
    "\n",
    "\n",
    "# Build array of log evs for two models\n",
    "ev = []\n",
    "models = [Model_1,Model_2]\n",
    "for x in models:\n",
    "    with open(x, \"r\") as f:\n",
    "        for line in f:\n",
    "            if \"Nested Sampling Global Log-Evidence\" in line:\n",
    "                ev.append(line)\n",
    "    f.close()\n",
    "print (ev)\n",
    "\n",
    "\n",
    "# Extract the evidences from the above array and convert to float\n",
    "z = []\n",
    "for x in ev:\n",
    "    y = x.split(':')\n",
    "    t = y[1].split('+/-')\n",
    "    z.append(t[0])\n",
    "ev1,ev2 = float(z[0]), float(z[1])\n",
    "print ('\\n','Log evs as floats','\\n',ev1,ev2)\n",
    "\n",
    "\n",
    "# Calculate and print delta of the log evidences\n",
    "delta_lnE = np.abs(ev1 - ev2)\n",
    "print ('\\n','Delta Log Evidence of the two models','\\n',delta_lnE)\n"
   ]
  },
  {
   "cell_type": "code",
   "execution_count": 36,
   "metadata": {},
   "outputs": [
    {
     "name": "stdout",
     "output_type": "stream",
     "text": [
      "[0.0991 0.1083 0.1182 0.1306 0.1419 0.1536 0.1651 0.1786 0.1933 0.2088\n",
      " 0.2237 0.2406 0.2589 0.2787 0.2987 0.3227 0.3476 0.3766 0.4077 0.4412\n",
      " 0.4819 0.5286 0.5847 0.6502 0.7339 0.8414 0.9953 1.243  1.7802]\n"
     ]
    }
   ],
   "source": [
    "print (z_wfirst)\n"
   ]
  },
  {
   "cell_type": "code",
   "execution_count": 244,
   "metadata": {},
   "outputs": [
    {
     "name": "stdout",
     "output_type": "stream",
     "text": [
      "3.3341866707294397e-06\n",
      "0.00022955702035849787\n",
      "\n",
      " Delta evidence \n",
      " 0.00022622283368776844\n",
      "\n",
      " Log Bayes Factor (Delta Log evs) \n",
      " 4.231922680579913\n",
      "\n",
      " Bayes Factor \n",
      " 68.84948055661091\n"
     ]
    }
   ],
   "source": [
    "\n",
    "# Print evidences and the abs value of delta evidences\n",
    "e1 = np.exp(ev1)\n",
    "e2 = np.exp(ev2)\n",
    "print (e1)\n",
    "print (e2)\n",
    "delta_evidence = np.abs(e1 - e2)\n",
    "print ('\\n','Delta evidence','\\n', delta_evidence)\n",
    "\n",
    "\n",
    "# Print Bayes factor ev1/ev2\n",
    "Bayes_factor = np.divide(np.exp(ev1),np.exp(ev2))\n",
    "# Bayes_factor = np.divide(np.exp(ev2),np.exp(ev1))\n",
    "\n",
    "# Print log of the Bayes Factor, should be same as delta log evs\n",
    "log_bayes_factor = np.abs(np.log(Bayes_factor))\n",
    "print ('\\n','Log Bayes Factor (Delta Log evs)','\\n',log_bayes_factor)\n",
    "\n",
    "\n",
    "# If the log bayes is negative, can use this to find bayes factor\n",
    "# Bayes factor for real this time\n",
    "Bayes_factor = np.exp(np.abs(log_bayes_factor))\n",
    "print ('\\n','Bayes Factor','\\n',Bayes_factor)\n"
   ]
  },
  {
   "cell_type": "code",
   "execution_count": 18,
   "metadata": {},
   "outputs": [
    {
     "name": "stdout",
     "output_type": "stream",
     "text": [
      "  analysing data from /Users/markpoe/ZTF/lowzSN/notebooks/chains/test1_jla_w0waCDM/.txt\n"
     ]
    }
   ],
   "source": [
    "a = pmn.analyse.Analyzer(5, outputfiles_basename = chain_dir)"
   ]
  },
  {
   "cell_type": "code",
   "execution_count": 21,
   "metadata": {},
   "outputs": [],
   "source": [
    "a.get_data()"
   ]
  },
  {
   "cell_type": "code",
   "execution_count": null,
   "metadata": {},
   "outputs": [],
   "source": []
  }
 ],
 "metadata": {
  "kernelspec": {
   "display_name": "Python 3",
   "language": "python",
   "name": "python3"
  },
  "language_info": {
   "codemirror_mode": {
    "name": "ipython",
    "version": 3
   },
   "file_extension": ".py",
   "mimetype": "text/x-python",
   "name": "python",
   "nbconvert_exporter": "python",
   "pygments_lexer": "ipython3",
   "version": "3.6.5"
  }
 },
 "nbformat": 4,
 "nbformat_minor": 2
}
